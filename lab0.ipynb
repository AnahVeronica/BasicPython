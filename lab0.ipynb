{
  "nbformat": 4,
  "nbformat_minor": 0,
  "metadata": {
    "kernelspec": {
      "display_name": "Python 3",
      "language": "python",
      "name": "python3"
    },
    "language_info": {
      "codemirror_mode": {
        "name": "ipython",
        "version": 3
      },
      "file_extension": ".py",
      "mimetype": "text/x-python",
      "name": "python",
      "nbconvert_exporter": "python",
      "pygments_lexer": "ipython3",
      "version": "3.7.6"
    },
    "colab": {
      "name": "lab0.ipynb",
      "provenance": []
    }
  },
  "cells": [
    {
      "cell_type": "markdown",
      "metadata": {
        "id": "8j236ZZH799D"
      },
      "source": [
        "# Lab 0: Basic Python, Functions, Lists, Strings, and Files"
      ]
    },
    {
      "cell_type": "markdown",
      "metadata": {
        "id": "NrzmeT7EcAZB"
      },
      "source": [
        "## EXERCISE 1: A Simple Calculator\n",
        "\n",
        "Here is a fun little calculator which exercises what you have learnt so far.\n",
        "\n",
        "It has only 4 operations - Addition, Subtraction, Multiplication and Divison\n",
        "\n",
        "Notice the use of no-operation `pass`. It allows us to incrementally code by doing nothing to start, and put in functionality over time."
      ]
    },
    {
      "cell_type": "code",
      "metadata": {
        "id": "bcwdUHOJ799S",
        "outputId": "bd1bd684-683d-47be-f89c-aa6a5fb610f2"
      },
      "source": [
        "print(\"Select operation\\n\")\n",
        "print(\"1.Addition\")\n",
        "print(\"2.Subtraction\")\n",
        "print(\"3.Multiplication\")\n",
        "print(\"4.Division\")\n",
        "\n",
        "# Something NEW: Take input from the user \n",
        "choice = input(\"\\nEnter choice(1/2/3/4): \")\n",
        "\n",
        "# We convert the input to a floating-pount(or real) number.\n",
        "\n",
        "num1 = float(input(\"\\nEnter first number: \"))\n",
        "num2 = float(input(\"\\nEnter second number: \"))\n",
        "\n",
        "if choice == '1':\n",
        "    # your code here\n",
        "    pass\n",
        "elif choice == '2':\n",
        "    # your code here\n",
        "    pass\n",
        "elif choice == '3':\n",
        "    # your code here\n",
        "    pass\n",
        "elif choice == '4': # could use else \n",
        "    if(num2==0):\n",
        "        print (\"Invalid input\")\n",
        "    else:\n",
        "        print(num1,\"/\",num2,\"=\", num1/num2)"
      ],
      "execution_count": null,
      "outputs": [
        {
          "output_type": "stream",
          "text": [
            "Select operation\n",
            "\n",
            "1.Addition\n",
            "2.Subtraction\n",
            "3.Multiplication\n",
            "4.Division\n"
          ],
          "name": "stdout"
        },
        {
          "output_type": "stream",
          "text": [
            "\n",
            "Enter choice(1/2/3/4):  1\n",
            "\n",
            "Enter first number:  1\n",
            "\n",
            "Enter second number:  2\n"
          ],
          "name": "stdin"
        }
      ]
    },
    {
      "cell_type": "markdown",
      "metadata": {
        "id": "aiLWbdna799U"
      },
      "source": [
        "## EXERCISE 2: List like objects and functions on them\n",
        "\n",
        "Materialize lists using \n",
        "\n",
        "1. `range(50)`\n",
        "2. The function application `enumerate(list of alphabets)`\n",
        "3. Write your own enumerate function for a list using the function `zip`."
      ]
    },
    {
      "cell_type": "code",
      "metadata": {
        "id": "wVjbiPbR799V",
        "outputId": "43c632a7-3dcc-485d-d5f5-46079eef77d4"
      },
      "source": [
        "# your code here\n",
        "list(range(50))"
      ],
      "execution_count": null,
      "outputs": [
        {
          "output_type": "execute_result",
          "data": {
            "text/plain": [
              "[0,\n",
              " 1,\n",
              " 2,\n",
              " 3,\n",
              " 4,\n",
              " 5,\n",
              " 6,\n",
              " 7,\n",
              " 8,\n",
              " 9,\n",
              " 10,\n",
              " 11,\n",
              " 12,\n",
              " 13,\n",
              " 14,\n",
              " 15,\n",
              " 16,\n",
              " 17,\n",
              " 18,\n",
              " 19,\n",
              " 20,\n",
              " 21,\n",
              " 22,\n",
              " 23,\n",
              " 24,\n",
              " 25,\n",
              " 26,\n",
              " 27,\n",
              " 28,\n",
              " 29,\n",
              " 30,\n",
              " 31,\n",
              " 32,\n",
              " 33,\n",
              " 34,\n",
              " 35,\n",
              " 36,\n",
              " 37,\n",
              " 38,\n",
              " 39,\n",
              " 40,\n",
              " 41,\n",
              " 42,\n",
              " 43,\n",
              " 44,\n",
              " 45,\n",
              " 46,\n",
              " 47,\n",
              " 48,\n",
              " 49]"
            ]
          },
          "metadata": {
            "tags": []
          },
          "execution_count": 1
        }
      ]
    },
    {
      "cell_type": "code",
      "metadata": {
        "id": "VWdqPvx8799W",
        "outputId": "a4ddeb5a-1a41-4b97-9822-cad5f1f79bfd"
      },
      "source": [
        "# your code here\n",
        "import string\n",
        "list(enumerate(string.ascii_lowercase))"
      ],
      "execution_count": null,
      "outputs": [
        {
          "output_type": "execute_result",
          "data": {
            "text/plain": [
              "[(0, 'a'),\n",
              " (1, 'b'),\n",
              " (2, 'c'),\n",
              " (3, 'd'),\n",
              " (4, 'e'),\n",
              " (5, 'f'),\n",
              " (6, 'g'),\n",
              " (7, 'h'),\n",
              " (8, 'i'),\n",
              " (9, 'j'),\n",
              " (10, 'k'),\n",
              " (11, 'l'),\n",
              " (12, 'm'),\n",
              " (13, 'n'),\n",
              " (14, 'o'),\n",
              " (15, 'p'),\n",
              " (16, 'q'),\n",
              " (17, 'r'),\n",
              " (18, 's'),\n",
              " (19, 't'),\n",
              " (20, 'u'),\n",
              " (21, 'v'),\n",
              " (22, 'w'),\n",
              " (23, 'x'),\n",
              " (24, 'y'),\n",
              " (25, 'z')]"
            ]
          },
          "metadata": {
            "tags": []
          },
          "execution_count": 22
        }
      ]
    },
    {
      "cell_type": "code",
      "metadata": {
        "id": "kortl7XN799X",
        "outputId": "1ce34b81-1cd1-4793-bcfc-0bc676dbe510"
      },
      "source": [
        "# your code here\n",
        "def my_enumerate(mylist):\n",
        "    l = len(mylist)\n",
        "    return zip(range(l), mylist)\n",
        "list(my_enumerate(string.ascii_lowercase))"
      ],
      "execution_count": null,
      "outputs": [
        {
          "output_type": "execute_result",
          "data": {
            "text/plain": [
              "[(0, 'a'),\n",
              " (1, 'b'),\n",
              " (2, 'c'),\n",
              " (3, 'd'),\n",
              " (4, 'e'),\n",
              " (5, 'f'),\n",
              " (6, 'g'),\n",
              " (7, 'h'),\n",
              " (8, 'i'),\n",
              " (9, 'j'),\n",
              " (10, 'k'),\n",
              " (11, 'l'),\n",
              " (12, 'm'),\n",
              " (13, 'n'),\n",
              " (14, 'o'),\n",
              " (15, 'p'),\n",
              " (16, 'q'),\n",
              " (17, 'r'),\n",
              " (18, 's'),\n",
              " (19, 't'),\n",
              " (20, 'u'),\n",
              " (21, 'v'),\n",
              " (22, 'w'),\n",
              " (23, 'x'),\n",
              " (24, 'y'),\n",
              " (25, 'z')]"
            ]
          },
          "metadata": {
            "tags": []
          },
          "execution_count": 21
        }
      ]
    },
    {
      "cell_type": "markdown",
      "metadata": {
        "id": "rUe6oWVsvj12"
      },
      "source": [
        "## EXERCISE 3: Count the special characters\n",
        "\n",
        "Consider the string \"HelloWorld,123,ThisIsUniv.Ai\" (not including the quotes). Find the number of uppercase, lowercase, special character and numerical characters.\n"
      ]
    },
    {
      "cell_type": "code",
      "metadata": {
        "id": "h_zAzkWX799Y"
      },
      "source": [
        "my_string = \"HelloWorld,123,ThisIsUniv.Ai\"\n",
        "# your code here\n",
        "def counter(allowed, inpstring):\n",
        "    count = 0\n",
        "    for c in inpstring:\n",
        "        if c in allowed:\n",
        "            count+=1\n",
        "    return count"
      ],
      "execution_count": null,
      "outputs": []
    },
    {
      "cell_type": "code",
      "metadata": {
        "id": "KxXdmctK799Z",
        "outputId": "070e0cb2-4b6c-4df9-80d9-7522089a8c58"
      },
      "source": [
        "counter(string.ascii_uppercase, my_string),counter(string.ascii_lowercase, my_string),counter(string.digits, my_string),counter(string.punctuation, my_string)"
      ],
      "execution_count": null,
      "outputs": [
        {
          "output_type": "execute_result",
          "data": {
            "text/plain": [
              "(6, 16, 3, 3)"
            ]
          },
          "metadata": {
            "tags": []
          },
          "execution_count": 20
        }
      ]
    },
    {
      "cell_type": "markdown",
      "metadata": {
        "id": "GV3w0IWz799a"
      },
      "source": [
        "## EXERCISE 4: Read a file and parse words from it\n",
        "\n",
        "Read Julius Caesar. Get each line. Remove newline characters from each line. Split the line to get the words from the line. Lowercase them. Print the first 1000 words, lowercased."
      ]
    },
    {
      "cell_type": "code",
      "metadata": {
        "id": "EKi-idME799a",
        "outputId": "04dfdd7d-785b-4f47-805d-c4f7a2266e9b"
      },
      "source": [
        "# your code here\n",
        "## Read a file, parse lines, and get all words\n",
        "\n",
        "# make a list with all words in documents\n",
        "# the words can occur more than once\n",
        "wordlist = []  \n",
        "fd = open(\"data/Julius Caesar.txt\")\n",
        "lines = fd.readlines()\n",
        "fd.close()\n",
        "# strip newline characters and other whitespace off the edges\n",
        "cleaned_lines = [line.strip() for line in lines] \n",
        "# make a list of lists. \n",
        "# each inner list if the list of words on that line\n",
        "list_of_lines_words = [line.split() for line in lines]\n",
        "# Take each list of words, and get all the words\n",
        "for lines_words in list_of_lines_words:\n",
        "    wordlist = wordlist + [l.lower() for l in lines_words] # update the wordlist using the new list.\n",
        "print(wordlist[:1000]) # first 1000 words"
      ],
      "execution_count": null,
      "outputs": [
        {
          "output_type": "stream",
          "text": [
            "['the', 'tragedy', 'of', 'julius', 'caesar', 'by', 'william', 'shakespeare', 'contents', 'act', 'i', 'scene', 'i.', 'rome.', 'a', 'street.', 'scene', 'ii.', 'the', 'same.', 'a', 'public', 'place.', 'scene', 'iii.', 'the', 'same.', 'a', 'street.', 'act', 'ii', 'scene', 'i.', 'rome.', 'brutusâ€™', 'orchard.', 'scene', 'ii.', 'a', 'room', 'in', 'caesarâ€™s', 'palace.', 'scene', 'iii.', 'a', 'street', 'near', 'the', 'capitol.', 'scene', 'iv.', 'another', 'part', 'of', 'the', 'same', 'street,', 'before', 'the', 'house', 'of', 'brutus.', 'act', 'iii', 'scene', 'i.', 'rome.', 'before', 'the', 'capitol;', 'the', 'senate', 'sitting.', 'scene', 'ii.', 'the', 'same.', 'the', 'forum.', 'scene', 'iii.', 'the', 'same.', 'a', 'street.', 'act', 'iv', 'scene', 'i.', 'a', 'room', 'in', 'antonyâ€™s', 'house.', 'scene', 'ii.', 'before', 'brutusâ€™', 'tent,', 'in', 'the', 'camp', 'near', 'sardis.', 'scene', 'iii.', 'within', 'the', 'tent', 'of', 'brutus.', 'act', 'v', 'scene', 'i.', 'the', 'plains', 'of', 'philippi.', 'scene', 'ii.', 'the', 'same.', 'the', 'field', 'of', 'battle.', 'scene', 'iii.', 'another', 'part', 'of', 'the', 'field.', 'scene', 'iv.', 'another', 'part', 'of', 'the', 'field.', 'scene', 'v.', 'another', 'part', 'of', 'the', 'field.', 'dramatis', 'personã¦', 'julius', 'caesar', 'octavius', 'caesar,', 'triumvir', 'after', 'his', 'death.', 'marcus', 'antonius,', 'â€\\x9d', 'â€\\x9d', 'â€\\x9d', 'm.', 'aemilius', 'lepidus,', 'â€\\x9d', 'â€\\x9d', 'â€\\x9d', 'cicero,', 'publius,', 'popilius', 'lena,', 'senators.', 'marcus', 'brutus,', 'conspirator', 'against', 'caesar.', 'cassius,', 'â€\\x9d', 'â€\\x9d', 'â€\\x9d', 'casca,', 'â€\\x9d', 'â€\\x9d', 'â€\\x9d', 'trebonius,', 'â€\\x9d', 'â€\\x9d', 'â€\\x9d', 'ligarius,â€\\x9d', 'â€\\x9d', 'â€\\x9d', 'decius', 'brutus,', 'â€\\x9d', 'â€\\x9d', 'â€\\x9d', 'metellus', 'cimber,', 'â€\\x9d', 'â€\\x9d', 'â€\\x9d', 'cinna,', 'â€\\x9d', 'â€\\x9d', 'â€\\x9d', 'flavius,', 'tribune', 'marullus,', 'tribune', 'artemidorus,', 'a', 'sophist', 'of', 'cnidos.', 'a', 'soothsayer', 'cinna,', 'a', 'poet.', 'another', 'poet.', 'lucilius,', 'titinius,', 'messala,', 'young', 'cato,', 'and', 'volumnius,', 'friends', 'to', 'brutus', 'and', 'cassius.', 'varro,', 'clitus,', 'claudius,', 'strato,', 'lucius,', 'dardanius,', 'servants', 'to', 'brutus', 'pindarus,', 'servant', 'to', 'cassius', 'calphurnia,', 'wife', 'to', 'caesar', 'portia,', 'wife', 'to', 'brutus', 'the', 'ghost', 'of', 'caesar', 'senators,', 'citizens,', 'soldiers,', 'commoners,', 'messengers,', 'and', 'servants.', 'scene:', 'rome,', 'the', 'conspiratorsâ€™', 'camp', 'near', 'sardis,', 'and', 'the', 'plains', 'of', 'philippi.', 'act', 'i', 'scene', 'i.', 'rome.', 'a', 'street.', 'enter', 'flavius,', 'marullus', 'and', 'a', 'throng', 'of', 'citizens.', 'flavius.', 'hence!', 'home,', 'you', 'idle', 'creatures,', 'get', 'you', 'home.', 'is', 'this', 'a', 'holiday?', 'what,', 'know', 'you', 'not,', 'being', 'mechanical,', 'you', 'ought', 'not', 'walk', 'upon', 'a', 'labouring', 'day', 'without', 'the', 'sign', 'of', 'your', 'profession?', 'speak,', 'what', 'trade', 'art', 'thou?', 'carpenter.', 'why,', 'sir,', 'a', 'carpenter.', 'marullus.', 'where', 'is', 'thy', 'leather', 'apron', 'and', 'thy', 'rule?', 'what', 'dost', 'thou', 'with', 'thy', 'best', 'apparel', 'on?', 'you,', 'sir,', 'what', 'trade', 'are', 'you?', 'cobbler.', 'truly,', 'sir,', 'in', 'respect', 'of', 'a', 'fine', 'workman,', 'i', 'am', 'but,', 'as', 'you', 'would', 'say,', 'a', 'cobbler.', 'marullus.', 'but', 'what', 'trade', 'art', 'thou?', 'answer', 'me', 'directly.', 'cobbler.', 'a', 'trade,', 'sir,', 'that', 'i', 'hope', 'i', 'may', 'use', 'with', 'a', 'safe', 'conscience,', 'which', 'is', 'indeed,', 'sir,', 'a', 'mender', 'of', 'bad', 'soles.', 'marullus.', 'what', 'trade,', 'thou', 'knave?', 'thou', 'naughty', 'knave,', 'what', 'trade?', 'cobbler.', 'nay,', 'i', 'beseech', 'you,', 'sir,', 'be', 'not', 'out', 'with', 'me;', 'yet,', 'if', 'you', 'be', 'out,', 'sir,', 'i', 'can', 'mend', 'you.', 'marullus.', 'what', 'meanâ€™st', 'thou', 'by', 'that?', 'mend', 'me,', 'thou', 'saucy', 'fellow!', 'cobbler.', 'why,', 'sir,', 'cobble', 'you.', 'flavius.', 'thou', 'art', 'a', 'cobbler,', 'art', 'thou?', 'cobbler.', 'truly,', 'sir,', 'all', 'that', 'i', 'live', 'by', 'is', 'with', 'the', 'awl;', 'i', 'meddle', 'with', 'no', 'tradesmanâ€™s', 'matters,', 'nor', 'womenâ€™s', 'matters,', 'but', 'withal', 'i', 'am', 'indeed,', 'sir,', 'a', 'surgeon', 'to', 'old', 'shoes:', 'when', 'they', 'are', 'in', 'great', 'danger,', 'i', 'recover', 'them.', 'as', 'proper', 'men', 'as', 'ever', 'trod', 'upon', 'neatâ€™s', 'leather', 'have', 'gone', 'upon', 'my', 'handiwork.', 'flavius.', 'but', 'wherefore', 'art', 'not', 'in', 'thy', 'shop', 'today?', 'why', 'dost', 'thou', 'lead', 'these', 'men', 'about', 'the', 'streets?', 'cobbler.', 'truly,', 'sir,', 'to', 'wear', 'out', 'their', 'shoes,', 'to', 'get', 'myself', 'into', 'more', 'work.', 'but', 'indeed,', 'sir,', 'we', 'make', 'holiday', 'to', 'see', 'caesar,', 'and', 'to', 'rejoice', 'in', 'his', 'triumph.', 'marullus.', 'wherefore', 'rejoice?', 'what', 'conquest', 'brings', 'he', 'home?', 'what', 'tributaries', 'follow', 'him', 'to', 'rome,', 'to', 'grace', 'in', 'captive', 'bonds', 'his', 'chariot', 'wheels?', 'you', 'blocks,', 'you', 'stones,', 'you', 'worse', 'than', 'senseless', 'things!', 'o', 'you', 'hard', 'hearts,', 'you', 'cruel', 'men', 'of', 'rome,', 'knew', 'you', 'not', 'pompey?', 'many', 'a', 'time', 'and', 'oft', 'have', 'you', 'climbâ€™d', 'up', 'to', 'walls', 'and', 'battlements,', 'to', 'towers', 'and', 'windows,', 'yea,', 'to', 'chimney', 'tops,', 'your', 'infants', 'in', 'your', 'arms,', 'and', 'there', 'have', 'sat', 'the', 'livelong', 'day', 'with', 'patient', 'expectation,', 'to', 'see', 'great', 'pompey', 'pass', 'the', 'streets', 'of', 'rome.', 'and', 'when', 'you', 'saw', 'his', 'chariot', 'but', 'appear,', 'have', 'you', 'not', 'made', 'an', 'universal', 'shout,', 'that', 'tiber', 'trembled', 'underneath', 'her', 'banks', 'to', 'hear', 'the', 'replication', 'of', 'your', 'sounds', 'made', 'in', 'her', 'concave', 'shores?', 'and', 'do', 'you', 'now', 'put', 'on', 'your', 'best', 'attire?', 'and', 'do', 'you', 'now', 'cull', 'out', 'a', 'holiday?', 'and', 'do', 'you', 'now', 'strew', 'flowers', 'in', 'his', 'way,', 'that', 'comes', 'in', 'triumph', 'over', 'pompeyâ€™s', 'blood?', 'be', 'gone!', 'run', 'to', 'your', 'houses,', 'fall', 'upon', 'your', 'knees,', 'pray', 'to', 'the', 'gods', 'to', 'intermit', 'the', 'plague', 'that', 'needs', 'must', 'light', 'on', 'this', 'ingratitude.', 'flavius.', 'go,', 'go,', 'good', 'countrymen,', 'and,', 'for', 'this', 'fault', 'assemble', 'all', 'the', 'poor', 'men', 'of', 'your', 'sort,', 'draw', 'them', 'to', 'tiber', 'banks,', 'and', 'weep', 'your', 'tears', 'into', 'the', 'channel,', 'till', 'the', 'lowest', 'stream', 'do', 'kiss', 'the', 'most', 'exalted', 'shores', 'of', 'all.', '[_exeunt', 'citizens._]', 'see', 'whether', 'their', 'basest', 'metal', 'be', 'not', 'movâ€™d;', 'they', 'vanish', 'tongue-tied', 'in', 'their', 'guiltiness.', 'go', 'you', 'down', 'that', 'way', 'towards', 'the', 'capitol;', 'this', 'way', 'will', 'i.', 'disrobe', 'the', 'images,', 'if', 'you', 'do', 'find', 'them', 'deckâ€™d', 'with', 'ceremonies.', 'marullus.', 'may', 'we', 'do', 'so?', 'you', 'know', 'it', 'is', 'the', 'feast', 'of', 'lupercal.', 'flavius.', 'it', 'is', 'no', 'matter;', 'let', 'no', 'images', 'be', 'hung', 'with', 'caesarâ€™s', 'trophies.', 'iâ€™ll', 'about', 'and', 'drive', 'away', 'the', 'vulgar', 'from', 'the', 'streets;', 'so', 'do', 'you', 'too,', 'where', 'you', 'perceive', 'them', 'thick.', 'these', 'growing', 'feathers', 'pluckâ€™d', 'from', 'caesarâ€™s', 'wing', 'will', 'make', 'him', 'fly', 'an', 'ordinary', 'pitch,', 'who', 'else', 'would', 'soar', 'above', 'the', 'view', 'of', 'men,', 'and', 'keep', 'us', 'all', 'in', 'servile', 'fearfulness.', '[_exeunt._]', 'scene', 'ii.', 'the', 'same.', 'a', 'public', 'place.', 'enter,', 'in', 'procession,', 'with', 'music,', 'caesar;', 'antony,', 'for', 'the', 'course;', 'calphurnia,', 'portia,', 'decius,', 'cicero,', 'brutus,', 'cassius', 'and', 'casca;', 'a', 'great', 'crowd', 'following,', 'among', 'them', 'a', 'soothsayer.', 'caesar.', 'calphurnia.', 'casca.', 'peace,', 'ho!', 'caesar', 'speaks.', '[_music', 'ceases._]', 'caesar.', 'calphurnia.', 'calphurnia.', 'here,', 'my', 'lord.', 'caesar.', 'stand', 'you', 'directly', 'in', 'antoniusâ€™', 'way,', 'when', 'he', 'doth', 'run', 'his', 'course.', 'antonius.', 'antony.', 'caesar,', 'my', 'lord?', 'caesar.', 'forget', 'not', 'in', 'your', 'speed,', 'antonius,', 'to', 'touch', 'calphurnia;', 'for', 'our', 'elders', 'say,', 'the', 'barren,', 'touched', 'in', 'this', 'holy', 'chase,', 'shake', 'off', 'their', 'sterile', 'curse.', 'antony.', 'i', 'shall', 'remember.']\n"
          ],
          "name": "stdout"
        }
      ]
    },
    {
      "cell_type": "code",
      "metadata": {
        "id": "vlps0Dre799b"
      },
      "source": [
        ""
      ],
      "execution_count": null,
      "outputs": []
    }
  ]
}